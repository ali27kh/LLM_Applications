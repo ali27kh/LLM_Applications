{
 "cells": [
  {
   "cell_type": "code",
   "execution_count": 1,
   "id": "fe7fce6d",
   "metadata": {
    "height": 98
   },
   "outputs": [],
   "source": [
    "import os\n",
    "from langchain.document_loaders import PyPDFLoader\n",
    "from langchain.text_splitter import RecursiveCharacterTextSplitter\n",
    "from langchain.embeddings import OpenAIEmbeddings\n",
    "from langchain.vectorstores import FAISS"
   ]
  },
  {
   "cell_type": "code",
   "execution_count": 2,
   "id": "0254a54b",
   "metadata": {
    "height": 370
   },
   "outputs": [],
   "source": [
    "# 1. Load all PDF files in the current directory\n",
    "all_docs = []\n",
    "\n",
    "for file in os.listdir(\".\"):\n",
    "    if file.endswith(\".pdf\"):\n",
    "        loader = PyPDFLoader(file)\n",
    "        docs = loader.load()\n",
    "        all_docs.extend(docs)\n",
    "\n",
    "# 2. Split the documents into chunks\n",
    "text_splitter = RecursiveCharacterTextSplitter(chunk_size=1000, chunk_overlap=200)\n",
    "docs_split = text_splitter.split_documents(all_docs)\n",
    "\n",
    "# 3. Create embeddings\n",
    "embeddings = OpenAIEmbeddings()\n",
    "\n",
    "# 4. Build the FAISS vector store\n",
    "db = FAISS.from_documents(docs_split, embeddings)\n",
    "\n",
    "# 5. Create a retriever for semantic search\n",
    "retriever = db.as_retriever()"
   ]
  },
  {
   "cell_type": "code",
   "execution_count": 3,
   "id": "c2286c85",
   "metadata": {
    "height": 30
   },
   "outputs": [
    {
     "data": {
      "text/plain": [
       "[Document(page_content=\"PDF généré le 03 août 2022 à 11:42 1\\nRESTAURANT DE L'HOTEL DU SAUVAGE\\n38 GRAND PLACE\\n59670 CASSEL\\nFrance\\n +33 328424088\\nrestaurantlesauvage@wanadoo.fr\\nIdentifiant Kompass : FR0107518\\nNuméro d’enregistrement (Siret, Siren…) :\\n319774170 00025\\nNuméro de TVA intracommunautaire :\\nFR88 319774170\\nCode NAF 2008 : 5610A - Restauration traditionnelle\\nCode NACE 2008 : 5610 - Restaurants et services de restauration mobile\\nCode ISIC 4 : 5610 - Activités de restaurants et de services de restauration mobiles\\nConventions collectives : 1979 - OPCO entreprises et salariés des services à forte intensité de main-d'œuvre - Convention collective\\nnationale des hôtels, cafés, restaurants (HCR)\\nInformations générales\\nForme juridique : Société à responsabilité limitée (sans autre\\nindication)\\nAnnée de fondation : 1980\\nCapital actions émis : 7622 EUR\\nChiffre d’affaires brut (2013) : 368212 EUR\\nTranche du CA brut (2013) : Moins de 500 000 EUR\\nType d’établissement : Siège\\nEffectif entreprise : De 0 à 9\", metadata={'source': 'FR0107518.pdf', 'page': 0}),\n",
       " Document(page_content=\"Capital actions émis : 7622 EUR\\nChiffre d’affaires brut (2013) : 368212 EUR\\nTranche du CA brut (2013) : Moins de 500 000 EUR\\nType d’établissement : Siège\\nEffectif entreprise : De 0 à 9\\nEffectif exact de l’entreprise : 6\\nEffectif à l’adresse : De 0 à 9\\nEffectif exact à l’adresse : 6\\nLangues parlées : Français\\nTranche du CA d’exportation (2013) : Moins de 500 000 EUR\\nInformations dirigeants\\nM. Gaëtan Vaesken : Dirigeant Principal (Gérant)\\nMme Perrine Dhulu : Dirigeant Principal (Gérant)\\nActivités\\nL'entreprise RESTAURANT DE L'HOTEL DU SAUVAGE, est installée au 38 GRAND PLACE à Cassel (59670) dans le\\ndépartement du Nord.Cette TPE est une société à responsabilité limitée (SARL) fondée en 1980 sous le numéro\\n319774170 00025, recensée sous le naf :  Restauration traditionnelle.La société RESTAURANT DE L'HOTEL DU\\nSAUVAGE est dirigée par Gaëtan Vaesken (Gérant)\\nActivités principales\\n78480 Bars et restaurants (Fournisseur de service)\\nInformations financières\\nClasse de risque : Risque modéré\\n2013\", metadata={'source': 'FR0107518.pdf', 'page': 0}),\n",
       " Document(page_content='SAUVAGE est dirigée par Gaëtan Vaesken (Gérant)\\nActivités principales\\n78480 Bars et restaurants (Fournisseur de service)\\nInformations financières\\nClasse de risque : Risque modéré\\n2013\\nChiffre d’affaires brut (EUR) 368212\\nExcédent brut d’exploitation (EUR) 25811\\nRésultat d’exploitation (EUR) 9087\\nRésultat net (EUR) 14589', metadata={'source': 'FR0107518.pdf', 'page': 0}),\n",
       " Document(page_content='PDF généré le 02 août 2022 à 18:41 1\\nLE LARGUE\\nCARREFOUR LES QUATRE\\nCHEMINS\\n04130 VOLX\\nFrance\\n +33 492730217\\n auberge.pierry@wanadoo.fr\\nIdentifiant Kompass : FR0075857\\nNuméro d’enregistrement (Siret, Siren…) :\\n502414667 00027\\nNuméro de TVA intracommunautaire :\\nFR07 502414667\\nCode NAF 2008 : 5610A - Restauration traditionnelle\\nCode NACE 2008 : 5610 - Restaurants et services de restauration mobile\\nCode ISIC 4 : 5610 - Activités de restaurants et de services de restauration mobiles\\nInformations générales\\nForme juridique : SAS, société par actions simplifiée\\nAnnée de fondation : 2007\\nCapital actions émis : 10000 EUR\\nChiffre d’affaires brut (2019) : 130066 EUR\\nTranche du CA brut (2019) : Moins de 500 000 EUR\\nType d’établissement : Siège\\nEffectif entreprise : De 0 à 9\\nEffectif exact de l’entreprise : 1\\nEffectif à l’adresse : De 0 à 9\\nEffectif exact à l’adresse : 1\\nLangues parlées : Français\\nInformations dirigeants\\nM. Francisco Rodriguez : Dirigeant Principal (Associé)', metadata={'source': 'FR0075857.pdf', 'page': 0}),\n",
       " Document(page_content=\"Effectif à l’adresse : De 0 à 9\\nEffectif exact à l’adresse : 1\\nLangues parlées : Français\\nInformations dirigeants\\nM. Francisco Rodriguez : Dirigeant Principal (Associé)\\nM. Juan Rodriguez : Dirigeant Principal (Associé)\\nActivités\\nL'entreprise LE LARGUE, est installée à Volx (CARREFOUR LES QUATRE CHEMINS) dans le département des Alpes de\\nHaute-Provence.Cette TPE est une societé anonyme par actions simplifiées fondée en 2007(SIRET : 502414667\\n00027), recensée sous le naf :  Restauration traditionnelle.La société LE LARGUE est dirigée par Francisco Rodriguez\\n(Associé)\\nActivités principales\\n78480 Bars et restaurants (Fournisseur de service)\\nInformations financières\\nClasse de risque : Risque faible\\n2016 2017 2018 2019\\nChiffre d’affaires brut (EUR) 140731 132128 129506 130066\\nExcédent brut d’exploitation (EUR) 19519 8773 1385 -4019\\nRésultat d’exploitation (EUR) 16165 5162 -1948 -5612\\nRésultat net (EUR) 8746 673 -2473 -5153\", metadata={'source': 'FR0075857.pdf', 'page': 0}),\n",
       " Document(page_content='PDF généré le 02 août 2022 à 18:46 1\\nITAL PLATS\\n241 RUE SAINT JACQUES\\n75005 PARIS 5\\nFrance\\n +33 143267100\\n ugotraiteur@orange.fr\\nIdentifiant Kompass : FR0074959\\nNuméro d’enregistrement (Siret, Siren…) :\\n403602949 00014\\nNuméro de TVA intracommunautaire :\\nFR54 403602949\\nCode NAF 2008 : 5621Z - Services des traiteurs\\nCode NACE 2008 : 5621 - Services des traiteurs\\nCode ISIC 4 : 5621 - Activités de restauration en kiosque\\nConventions collectives : 0953 - OPCO entreprises de proximité - Convention collective nationale de la charcuterie de détail\\nInformations générales\\nForme juridique : Société à responsabilité limitée (sans autre\\nindication)\\nAnnée de fondation : 1996\\nCapital actions émis : 7622 EUR\\nChiffre d’affaires brut (2020) : 359146 EUR\\nTranche du CA brut (2020) : Moins de 500 000 EUR\\nType d’établissement : Siège\\nEffectif entreprise : De 0 à 9\\nEffectif exact de l’entreprise : 3\\nEffectif à l’adresse : De 0 à 9\\nEffectif exact à l’adresse : 3\\nInformations dirigeants', metadata={'source': 'FR0074959.pdf', 'page': 0}),\n",
       " Document(page_content='Type d’établissement : Siège\\nEffectif entreprise : De 0 à 9\\nEffectif exact de l’entreprise : 3\\nEffectif à l’adresse : De 0 à 9\\nEffectif exact à l’adresse : 3\\nInformations dirigeants\\nM. Paolo Cagnato : Dirigeant Principal (Gérant)\\nActivités\\nLa société ITAL PLATS, est implantée au 241 RUE SAINT JACQUES à Paris 5 (75005) dans le département de\\nParis.Cette TPE est une société à responsabilité limitée (SARL) fondée en 1996 sous le numéro 403602949 00014,\\nrecensée sous le naf :  Services des traiteurs.La société ITAL PLATS est dirigée par Paolo Cagnato (Gérant)\\nActivités principales\\n78700 Restauration hors foyer et traiteurs (Fournisseur de service)\\nInformations financières\\nClasse de risque : Risque faible\\n2016 2017 2019 2020\\nChiffre d’affaires brut (EUR) 498915 490346 487407 359146\\nExcédent brut d’exploitation (EUR) 33078 7992 11502 -17131\\nRésultat d’exploitation (EUR) 25576 2178 5051 -22149\\nRésultat net (EUR) 22021 4649 3755 -22421', metadata={'source': 'FR0074959.pdf', 'page': 0}),\n",
       " Document(page_content=\"PDF généré le 03 août 2022 à 11:15 1\\nHONG LINH\\n14 RUE DE LA MADELEINE\\n12000 RODEZ\\nFrance\\n +33 565759792\\n +33 565682950\\n profishing-concept@hotmail.fr\\nIdentifiant Kompass : FR0042229\\nNuméro d’enregistrement (Siret, Siren…) :\\n448102616 00027\\nNuméro de TVA intracommunautaire :\\nFR89 448102616\\nCode NAF 2008 : 5610C - Restauration de type rapide\\nCode NACE 2008 : 5610 - Restaurants et services de restauration mobile\\nCode ISIC 4 : 5610 - Activités de restaurants et de services de restauration mobiles\\nConventions collectives : 1979 - OPCO entreprises et salariés des services à forte intensité de main-d'œuvre - Convention collective\\nnationale des hôtels, cafés, restaurants (HCR)\\nInformations générales\\nForme juridique : Société à responsabilité limitée (sans autre\\nindication)\\nAnnée de fondation : 2003\\nCapital actions émis : 8000 EUR\\nTranche du CA brut (2019) : Moins de 500 000 EUR\\nType d’établissement : Agence\\nSiège social : HONG LINH (FR0166073)\\nEffectif entreprise : De 0 à 9\", metadata={'source': 'FR0042229.pdf', 'page': 0}),\n",
       " Document(page_content=\"Capital actions émis : 8000 EUR\\nTranche du CA brut (2019) : Moins de 500 000 EUR\\nType d’établissement : Agence\\nSiège social : HONG LINH (FR0166073)\\nEffectif entreprise : De 0 à 9\\nEffectif exact de l’entreprise : 2\\nEffectif à l’adresse : De 0 à 9\\nEffectif exact à l’adresse : 1\\nLangues parlées : Français\\nInformations dirigeants\\nM. Van Nguyen : Dirigeant Principal (Gérant)\\nActivités\\nL'entreprise HONG LINH, est implantée au 14 RUE DE LA MADELEINE à Rodez (12000) dans le département de\\nl'Aveyron.Cette TPE est une société à responsabilité limitée (SARL) fondée en 2003 sous l'enregistrement\\n448102616 00027, recensée sous le naf :  Restauration de type rapide.La société HONG LINH est dirigée par Van\\nNguyen (Gérant)\\nActivités principales\\n7848009 Restauration rapide (fast-food) (Fournisseur de service)\\nInformations financières\\nClasse de risque : Risque faible\", metadata={'source': 'FR0042229.pdf', 'page': 0}),\n",
       " Document(page_content=\"PDF généré le 03 août 2022 à 11:20 1\\nEIREAN\\nBOYARDVILLE\\nLA PLAGE\\n17190 SAINT GEORGES\\nD'OLERON\\nFrance\\n +33 546472445\\ncafedelaplage.boyardville@orange.fr\\nIdentifiant Kompass : FR0041370\\nNuméro d’enregistrement (Siret, Siren…) :\\n447911405 00028\\nNuméro de TVA intracommunautaire :\\nFR17 447911405\\nCode NAF 2008 : 5610A - Restauration traditionnelle\\nCode NACE 2008 : 5610 - Restaurants et services de restauration mobile\\nCode ISIC 4 : 5610 - Activités de restaurants et de services de restauration mobiles\\nInformations générales\\nForme juridique : Société à responsabilité limitée (sans autre\\nindication)\\nAnnée de fondation : 2003\\nCapital actions émis : 8000 EUR\\nTranche du CA brut (2019) : De 500 000 à 1 million EUR\\nType d’établissement : Agence\\nSiège social : EIREAN (FR0165845)\\nEffectif entreprise : De 0 à 9\\nEffectif exact de l’entreprise : 2\\nEffectif à l’adresse : De 0 à 9\\nEffectif exact à l’adresse : 0\\nLangues parlées : Français\\nInformations dirigeants\", metadata={'source': 'FR0041370.pdf', 'page': 0}),\n",
       " Document(page_content=\"Effectif entreprise : De 0 à 9\\nEffectif exact de l’entreprise : 2\\nEffectif à l’adresse : De 0 à 9\\nEffectif exact à l’adresse : 0\\nLangues parlées : Français\\nInformations dirigeants\\nM. Jean-Jacques Charles : Dirigeant Principal (Gérant)\\nMme Deirdre Meehan : Dirigeant Principal (Gérant)\\nActivités\\nLa compagnie EIREAN, est installée à Saint Georges D'oleron (BOYARDVILLE) dans le département de\\nCharente-Maritime.Cette société est une société à responsabilité limitée (SARL) fondée en 2003 ayant comme\\nSIRET le numéro 447911405 00028, recensée sous le naf :  Restauration traditionnelle.La société EIREAN est dirigée\\npar Jean-Jacques Charles (Gérant)\\nActivités principales\\n78480 Bars et restaurants (Fournisseur de service)\\nInformations financières\\nClasse de risque : Risque faible\", metadata={'source': 'FR0041370.pdf', 'page': 0}),\n",
       " Document(page_content=\"PDF généré le 02 août 2022 à 18:58 1\\nLOU D'OC\\n7 RUE DE LA PORTE D AUDE\\n11000 CARCASSONNE\\nFrance\\n +33 468254903\\n rellier@live.fr\\nIdentifiant Kompass : FR0050157\\nNuméro d’enregistrement (Siret, Siren…) :\\n450820188 00024\\nNuméro de TVA intracommunautaire :\\nFR52 450820188\\nCode NAF 2008 : 5610A - Restauration traditionnelle\\nCode NACE 2008 : 5610 - Restaurants et services de restauration mobile\\nCode ISIC 4 : 5610 - Activités de restaurants et de services de restauration mobiles\\nConventions collectives : 1979 - OPCO entreprises et salariés des services à forte intensité de main-d'œuvre - Convention collective\\nnationale des hôtels, cafés, restaurants (HCR)\\nInformations générales\\nForme juridique : Société à responsabilité limitée (sans autre\\nindication)\\nAnnée de fondation : 2003\\nCapital actions émis : 7800 EUR\\nTranche du CA brut (2019) : Moins de 500 000 EUR\\nType d’établissement : Agence\\nSiège social : LOU D'OC (FR1602094)\\nEffectif entreprise : De 0 à 9\\nEffectif exact de l’entreprise : 3\", metadata={'source': 'FR0050157.pdf', 'page': 0}),\n",
       " Document(page_content=\"Tranche du CA brut (2019) : Moins de 500 000 EUR\\nType d’établissement : Agence\\nSiège social : LOU D'OC (FR1602094)\\nEffectif entreprise : De 0 à 9\\nEffectif exact de l’entreprise : 3\\nEffectif à l’adresse : De 0 à 9\\nEffectif exact à l’adresse : 3\\nInformations dirigeants\\nM. Ahmed Medjebeur : Dirigeant Principal (Associé)\\nActivités\\nL'entreprise LOU D'OC, est installée au 7 RUE DE LA PORTE D AUDE à Carcassonne (11000) dans le département de\\nl'Aude.Cette TPE est une société à responsabilité limitée (SARL) fondée en 2003 sous l'enregistrement 450820188\\n00024, recensée sous le naf :  Restauration traditionnelle.La société LOU D'OC est dirigée par Ahmed Medjebeur\\n(Associé)\\nActivités principales\\n78480 Bars et restaurants (Fournisseur de service)\\nInformations financières\\nClasse de risque : Risque modéré\", metadata={'source': 'FR0050157.pdf', 'page': 0}),\n",
       " Document(page_content=\"PDF généré le 04 août 2022 à 16:42 1\\nSARL THOMAS\\n15 LE HAUT DU VILLAGE\\n88210 LE PUID\\nFrance\\n +33 329410539\\n auberge.ray.bois@wanadoo.fr\\nIdentifiant Kompass : FR0071580\\nNuméro d’enregistrement (Siret, Siren…) :\\n404067720 00015\\nNuméro de TVA intracommunautaire :\\nFR89 404067720\\nCode NAF 2008 : 5630Z - Débits de boissons\\nCode NACE 2008 : 5630 - Débits de boissons\\nCode ISIC 4 : 5630 - Activités de consommation de boissons\\nConventions collectives : 1979 - OPCO entreprises et salariés des services à forte intensité de main-d'œuvre - Convention collective\\nnationale des hôtels, cafés, restaurants (HCR)\\nInformations générales\\nForme juridique : Société à responsabilité limitée (sans autre\\nindication)\\nAnnée de fondation : 1995\\nCapital actions émis : 45765 EUR\\nChiffre d’affaires brut (2017) : 188794 EUR\\nTranche du CA brut (2017) : Moins de 500 000 EUR\\nType d’établissement : Siège\\nEffectif entreprise : De 0 à 9\\nEffectif exact de l’entreprise : 1\\nEffectif à l’adresse : De 0 à 9\", metadata={'source': 'FR0071580.pdf', 'page': 0}),\n",
       " Document(page_content=\"Tranche du CA brut (2017) : Moins de 500 000 EUR\\nType d’établissement : Siège\\nEffectif entreprise : De 0 à 9\\nEffectif exact de l’entreprise : 1\\nEffectif à l’adresse : De 0 à 9\\nEffectif exact à l’adresse : 1\\nInformations dirigeants\\nMme Francoise Thomas : Dirigeant Principal (Gérant)\\nActivités\\nL'entreprise SARL THOMAS, est installée au 15 LE HAUT DU VILLAGE à Le Puid (88210) dans le département des\\nVosges.Cette TPE est une société à responsabilité limitée (SARL) fondée en 1995(SIRET : 404067720 00015),\\nrecensée sous le naf :  Débits de boissons.La société SARL THOMAS est dirigée par Francoise Thomas (Gérant)\\nActivités principales\\n7848020 Bars, débits de boissons (Fournisseur de service)\\nInformations financières\\nClasse de risque : Risque faible\\n2013 2014 2015 2017\\nChiffre d’affaires brut (EUR) 208192 183900 203954 188794\\nExcédent brut d’exploitation (EUR) -13907 -15374 -591 13744\\nRésultat d’exploitation (EUR) -11366 -11981 3624 19638\\nRésultat net (EUR) -11368 -11994 3622 19724\", metadata={'source': 'FR0071580.pdf', 'page': 0}),\n",
       " Document(page_content=\"PDF généré le 03 août 2022 à 11:27 1\\nLAURENT\\n36 AV DE L OCEAN\\nTOUL FOURCH\\n56400 AURAY\\nFrance\\n +33 297563600\\n legrenier.auray@orange.fr\\nIdentifiant Kompass : FR0072049\\nNuméro d’enregistrement (Siret, Siren…) :\\n498896679 00020\\nNuméro de TVA intracommunautaire :\\nFR31 498896679\\nCode NAF 2008 : 5610A - Restauration traditionnelle\\nCode NACE 2008 : 5610 - Restaurants et services de restauration mobile\\nCode ISIC 4 : 5610 - Activités de restaurants et de services de restauration mobiles\\nConventions collectives : 1979 - OPCO entreprises et salariés des services à forte intensité de main-d'œuvre - Convention collective\\nnationale des hôtels, cafés, restaurants (HCR)\\nInformations générales\\nForme juridique : Société à responsabilité limitée (sans autre\\nindication)\\nAnnée de fondation : 2007\\nCapital actions émis : 10000 EUR\\nTranche du CA brut (2013) : Moins de 500 000 EUR\\nType d’établissement : Siège\\nEffectif entreprise : De 0 à 9\\nEffectif exact de l’entreprise : 6\\nEffectif à l’adresse : De 0 à 9\", metadata={'source': 'FR0072049.pdf', 'page': 0}),\n",
       " Document(page_content=\"Tranche du CA brut (2013) : Moins de 500 000 EUR\\nType d’établissement : Siège\\nEffectif entreprise : De 0 à 9\\nEffectif exact de l’entreprise : 6\\nEffectif à l’adresse : De 0 à 9\\nEffectif exact à l’adresse : 6\\nTranche du CA d’exportation (2013) : Moins de 500 000 EUR\\nInformations dirigeants\\nM. Jean-Marc Louis Laurent : Dirigeant Principal (Gérant)\\nActivités\\nLa compagnie LAURENT, est implantée au 36 AV DE L OCEAN à Auray (56400) dans le département du\\nMorbihan.Cette TPE est une société à responsabilité limitée (SARL) fondée en 2007 sous l'enregistrement\\n498896679 00020, recensée sous le naf :  Restauration traditionnelle.La société LAURENT est dirigée par Jean-Marc\\nLouis Laurent (Gérant)\\nActivités principales\\n78480 Bars et restaurants (Fournisseur de service)\\nInformations financières\\nClasse de risque : Risque faible\\n2013\\nChiffre d’affaires brut (EUR) 0\\nExcédent brut d’exploitation (EUR) 0\\nRésultat d’exploitation (EUR) -4277\\nRésultat net (EUR) -564\", metadata={'source': 'FR0072049.pdf', 'page': 0}),\n",
       " Document(page_content=\"PDF généré le 03 août 2022 à 11:45 1\\nRHODES\\n15 RUE DE LA HUCHETTE\\n75005 PARIS 5\\nFrance\\n +33 140510738\\n laskar@imcce.fr\\nIdentifiant Kompass : FR0017800\\nNuméro d’enregistrement (Siret, Siren…) :\\n325080364 00020\\nNuméro de TVA intracommunautaire :\\nFR00 325080364\\nCode NAF 2008 : 5610A - Restauration traditionnelle\\nCode NACE 2008 : 5610 - Restaurants et services de restauration mobile\\nCode ISIC 4 : 5610 - Activités de restaurants et de services de restauration mobiles\\nConventions collectives : 1979 - OPCO entreprises et salariés des services à forte intensité de main-d'œuvre - Convention collective\\nnationale des hôtels, cafés, restaurants (HCR)\\nInformations générales\\nForme juridique : Société à responsabilité limitée (sans autre\\nindication)\\nAnnée de fondation : 1982\\nCapital actions émis : 7774 EUR\\nChiffre d’affaires brut (2020) : 24750 EUR\\nTranche du CA brut (2020) : Moins de 500 000 EUR\\nType d’établissement : Siège\\nEffectif entreprise : De 0 à 9\\nEffectif à l’adresse : De 0 à 9\", metadata={'source': 'FR0017800.pdf', 'page': 0}),\n",
       " Document(page_content=\"Chiffre d’affaires brut (2020) : 24750 EUR\\nTranche du CA brut (2020) : Moins de 500 000 EUR\\nType d’établissement : Siège\\nEffectif entreprise : De 0 à 9\\nEffectif à l’adresse : De 0 à 9\\nLangues parlées : Français\\nInformations dirigeants\\nGeorick Mourtzakis : Dirigeant Principal (Gérant)\\nActivités\\nL'entreprise RHODES, est localisée au 15 RUE DE LA HUCHETTE à Paris 5 (75005) dans le département de\\nParis.Cette société est une société à responsabilité limitée (SARL) fondée en 1982 ayant comme SIRET le numéro\\n325080364 00020, recensée sous le naf :  Restauration traditionnelle.La société RHODES est dirigée par Georick\\nMourtzakis (Gérant)\\nActivités principales\\n78480 Bars et restaurants (Fournisseur de service)\\nInformations financières\\nClasse de risque : Risque fort\\n2017 2018 2019 2020\\nChiffre d’affaires brut (EUR) 106718 99093 99000 24750\\nExcédent brut d’exploitation (EUR) 11845 10365 4257 -64981\\nRésultat d’exploitation (EUR) -73073 2837 -7 -59942\\nRésultat net (EUR) -74162 1906 -531 -60489\", metadata={'source': 'FR0017800.pdf', 'page': 0}),\n",
       " Document(page_content='PDF généré le 02 août 2022 à 18:52 1\\nDANLEIT\\n31 AV DE BLOTZHEIM\\n40370 RION-DES-LANDES\\nFrance\\n +33 558571470\\n danleit@wanadoo.fr\\nIdentifiant Kompass : FR0029832\\nNuméro d’enregistrement (Siret, Siren…) :\\n441249570 00025\\nNuméro de TVA intracommunautaire :\\nFR04 441249570\\nCode NAF 2008 : 5630Z - Débits de boissons\\nCode NACE 2008 : 5630 - Débits de boissons\\nCode ISIC 4 : 5630 - Activités de consommation de boissons\\nInformations générales\\nForme juridique : Société à responsabilité limitée (sans autre\\nindication)\\nAnnée de fondation : 2002\\nCapital actions émis : 7500 EUR\\nChiffre d’affaires brut (2016) : 89261 EUR\\nTranche du CA brut (2016) : Moins de 500 000 EUR\\nType d’établissement : Agence\\nSiège social : DANLEIT (FR0159771)\\nEffectif entreprise : De 0 à 9\\nEffectif exact de l’entreprise : 1\\nEffectif à l’adresse : De 0 à 9\\nEffectif exact à l’adresse : 1\\nInformations dirigeants\\nM. Bernard Danthez : Dirigeant Principal (Gérant)\\nM. Daniel Leite Lopes : Dirigeant Principal (Gérant)\\nActivités', metadata={'source': 'FR0029832.pdf', 'page': 0}),\n",
       " Document(page_content='Effectif à l’adresse : De 0 à 9\\nEffectif exact à l’adresse : 1\\nInformations dirigeants\\nM. Bernard Danthez : Dirigeant Principal (Gérant)\\nM. Daniel Leite Lopes : Dirigeant Principal (Gérant)\\nActivités\\nLa société DANLEIT, est implantée au 31 AV DE BLOTZHEIM à Rion-des-landes (40370) dans le département des\\nLandes.Cette TPE est une société à responsabilité limitée (SARL) fondée en 2002(SIRET : 441249570 00025),\\nrecensée sous le naf :  Débits de boissons.La société DANLEIT est dirigée par Bernard Danthez (Gérant)\\nActivités principales\\n7848020 Bars, débits de boissons (Fournisseur de service)\\nInformations financières\\nClasse de risque : Risque faible\\n2016\\nChiffre d’affaires brut (EUR) 89261\\nExcédent brut d’exploitation (EUR) 3017\\nRésultat d’exploitation (EUR) 1393\\nRésultat net (EUR) 1690', metadata={'source': 'FR0029832.pdf', 'page': 0})]"
      ]
     },
     "execution_count": 3,
     "metadata": {},
     "output_type": "execute_result"
    }
   ],
   "source": [
    "docs_split"
   ]
  },
  {
   "cell_type": "code",
   "execution_count": 4,
   "id": "4cf11f7d",
   "metadata": {
    "height": 30
   },
   "outputs": [
    {
     "data": {
      "text/plain": [
       "VectorStoreRetriever(vectorstore=<langchain.vectorstores.faiss.FAISS object at 0x7fc3f40eeeb0>, search_type='similarity', search_kwargs={})"
      ]
     },
     "execution_count": 4,
     "metadata": {},
     "output_type": "execute_result"
    }
   ],
   "source": [
    "retriever"
   ]
  },
  {
   "cell_type": "code",
   "execution_count": 5,
   "id": "4c4a1577",
   "metadata": {
    "height": 81
   },
   "outputs": [],
   "source": [
    "from langchain.tools import Tool\n",
    "from langchain.chains import RetrievalQA\n",
    "from langchain.agents import initialize_agent, load_tools, AgentType\n",
    "from langchain.chat_models import ChatOpenAI"
   ]
  },
  {
   "cell_type": "code",
   "execution_count": 6,
   "id": "ff21b29b",
   "metadata": {
    "height": 778
   },
   "outputs": [],
   "source": [
    "# 1. Initialize the LLM\n",
    "llm = ChatOpenAI(temperature=0.2, model=\"gpt-3.5-turbo\")\n",
    "\n",
    "# 2. Create a QA chain based on the PDF retriever\n",
    "qa_pdf = RetrievalQA.from_chain_type(\n",
    "    llm=llm,\n",
    "    retriever=retriever,\n",
    "    chain_type=\"stuff\"\n",
    ")\n",
    "\n",
    "# 3. Wrap the PDF QA into a custom tool\n",
    "pdf_tool = Tool(\n",
    "    name=\"EntreprisePDF\",\n",
    "    func=qa_pdf.run,\n",
    "    description=\"Use this tool to answer questions about the company based on the PDF documents.\"\n",
    ")\n",
    "\n",
    "# 4. Load external tools (Wikipedia, math calculator, etc.)\n",
    "# Business Expert tool\n",
    "business_tool = Tool(\n",
    "    name=\"BusinessExpert\",\n",
    "    func=lambda q: \"I provide insights about business strategy, management, and operations.\",\n",
    "    description=\"Useful for answering questions about business strategy, management, and operations.\"\n",
    ")\n",
    "\n",
    "# Finance Expert tool\n",
    "finance_tool = Tool(\n",
    "    name=\"FinanceExpert\",\n",
    "    func=lambda q: \"I provide insights about financial analysis, accounting, and corporate finance.\",\n",
    "    description=\"Useful for answering questions about financial analysis, accounting, and investments.\"\n",
    ")\n",
    "\n",
    "# HR Expert tool\n",
    "hr_tool = Tool(\n",
    "    name=\"HRExpert\",\n",
    "    func=lambda q: \"I provide insights about human resources, recruitment, and employee management.\",\n",
    "    description=\"Useful for answering questions about HR, recruitment, and company culture.\"\n",
    ")\n",
    "\n",
    "# Load default tools (Wikipedia)\n",
    "tools = load_tools([\"wikipedia\"], llm=llm)\n",
    "\n",
    "\n",
    "# 5. Add the custom PDF tool to the list of tools\n",
    "tools.extend([pdf_tool, business_tool, finance_tool, hr_tool])"
   ]
  },
  {
   "cell_type": "code",
   "execution_count": 7,
   "id": "bb100472",
   "metadata": {
    "height": 132
   },
   "outputs": [],
   "source": [
    "# Agent multi-outils\n",
    "agent = initialize_agent(\n",
    "    tools,\n",
    "    llm,\n",
    "    agent=AgentType.ZERO_SHOT_REACT_DESCRIPTION,\n",
    "    verbose=False\n",
    ")"
   ]
  },
  {
   "cell_type": "markdown",
   "id": "8af481c6",
   "metadata": {
    "height": 30
   },
   "source": [
    "# Test:"
   ]
  },
  {
   "cell_type": "markdown",
   "id": "e3e6080a",
   "metadata": {
    "height": 30
   },
   "source": [
    "### Informations from PDF"
   ]
  },
  {
   "cell_type": "code",
   "execution_count": 8,
   "id": "6b6d1f61",
   "metadata": {
    "height": 47
   },
   "outputs": [
    {
     "data": {
      "text/plain": [
       "'The phone number for the company RHODES is +33 140510738.'"
      ]
     },
     "execution_count": 8,
     "metadata": {},
     "output_type": "execute_result"
    }
   ],
   "source": [
    "query = \"Quel est le numéro de téléphone de l'entreprise RHODES?\"\n",
    "agent.run(query)"
   ]
  },
  {
   "cell_type": "code",
   "execution_count": 9,
   "id": "45ffa5c8",
   "metadata": {
    "height": 47
   },
   "outputs": [
    {
     "data": {
      "text/plain": [
       "'The capital actions émis of the company EIREAN is 8000 EUR.'"
      ]
     },
     "execution_count": 9,
     "metadata": {},
     "output_type": "execute_result"
    }
   ],
   "source": [
    "query = \"Quelle est la capitale actions émis de l'entreprise EIREAN?\"\n",
    "agent.run(query)"
   ]
  },
  {
   "cell_type": "markdown",
   "id": "b227e349",
   "metadata": {
    "height": 30
   },
   "source": [
    "### Informations from web and another sources"
   ]
  },
  {
   "cell_type": "code",
   "execution_count": 11,
   "id": "1538a0e9",
   "metadata": {
    "height": 47
   },
   "outputs": [
    {
     "data": {
      "text/plain": [
       "'Mr Beast, whose real name is James Stephen Donaldson, is an American YouTuber, media personality, and businessman known for his philanthropic efforts and elaborate challenges on YouTube. He is the most subscribed channel on YouTube and has over 419 million subscribers. He is also the founder of MrBeast Burger and has been involved in various philanthropic initiatives.'"
      ]
     },
     "execution_count": 11,
     "metadata": {},
     "output_type": "execute_result"
    }
   ],
   "source": [
    "query = \"Who is Mr Beast?\"\n",
    "agent.run(query)"
   ]
  },
  {
   "cell_type": "code",
   "execution_count": 12,
   "id": "21d9a0c6",
   "metadata": {
    "height": 47
   },
   "outputs": [
    {
     "data": {
      "text/plain": [
       "'Microsoft Corporation is an American multinational corporation and technology conglomerate headquartered in Redmond, Washington. It was founded in 1975 and has since become influential in the rise of personal computers through software like Windows.'"
      ]
     },
     "execution_count": 12,
     "metadata": {},
     "output_type": "execute_result"
    }
   ],
   "source": [
    "query = \"Give me some informations about Microsoft\"\n",
    "agent.run(query)"
   ]
  }
 ],
 "metadata": {
  "kernelspec": {
   "display_name": "Python 3 (ipykernel)",
   "language": "python",
   "name": "python3"
  },
  "language_info": {
   "codemirror_mode": {
    "name": "ipython",
    "version": 3
   },
   "file_extension": ".py",
   "mimetype": "text/x-python",
   "name": "python",
   "nbconvert_exporter": "python",
   "pygments_lexer": "ipython3",
   "version": "3.8.8"
  }
 },
 "nbformat": 4,
 "nbformat_minor": 5
}
