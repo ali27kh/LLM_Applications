{
 "cells": [
  {
   "cell_type": "code",
   "execution_count": 1,
   "id": "d86d1b80",
   "metadata": {
    "height": 81
   },
   "outputs": [],
   "source": [
    "from langchain.chat_models import ChatOpenAI\n",
    "from langchain.prompts import ChatPromptTemplate\n",
    "from langchain.chains import LLMChain, SequentialChain\n",
    "from langchain.memory import ConversationBufferMemory"
   ]
  },
  {
   "cell_type": "code",
   "execution_count": 2,
   "id": "96746e76",
   "metadata": {
    "height": 149
   },
   "outputs": [],
   "source": [
    "llm = ChatOpenAI(temperature=0.7, model=\"gpt-3.5-turbo\")\n",
    "\n",
    "# memory\n",
    "memory = ConversationBufferMemory(\n",
    "    memory_key=\"chat_history\",\n",
    "    input_key=\"input_text\",\n",
    "    output_key=\"processed_text\"\n",
    ")"
   ]
  },
  {
   "cell_type": "markdown",
   "id": "727a8635",
   "metadata": {
    "height": 30
   },
   "source": [
    "### 1-Detect language:"
   ]
  },
  {
   "cell_type": "code",
   "execution_count": 3,
   "id": "123018e1",
   "metadata": {
    "height": 81
   },
   "outputs": [],
   "source": [
    "detect_prompt = ChatPromptTemplate.from_template(\n",
    "    \"Detect the language of the following text:\\n\\n{input_text}\"\n",
    ")\n",
    "detect_chain = LLMChain(llm=llm, prompt=detect_prompt, output_key=\"language\")"
   ]
  },
  {
   "cell_type": "markdown",
   "id": "559728cb",
   "metadata": {
    "height": 30
   },
   "source": [
    "### 2-Translate text into english:"
   ]
  },
  {
   "cell_type": "code",
   "execution_count": 4,
   "id": "ec86caaa",
   "metadata": {
    "height": 81
   },
   "outputs": [],
   "source": [
    "translate_prompt = ChatPromptTemplate.from_template(\n",
    "    \"Translate the following text into English:\\n\\n{input_text}\"\n",
    ")\n",
    "translate_chain = LLMChain(llm=llm, prompt=translate_prompt, output_key=\"english_text\")"
   ]
  },
  {
   "cell_type": "markdown",
   "id": "b28a879f",
   "metadata": {
    "height": 30
   },
   "source": [
    "### 3-Summerize or Paraphrase:"
   ]
  },
  {
   "cell_type": "code",
   "execution_count": 21,
   "id": "9888e688",
   "metadata": {
    "height": 81
   },
   "outputs": [],
   "source": [
    "process_prompt = ChatPromptTemplate.from_template(\n",
    "    \"You need to {mode} the following English text into a concise summary (max 2-3 sentences):\\n\\n{english_text}\"\n",
    ")\n",
    "process_chain = LLMChain(llm=llm, prompt=process_prompt, output_key=\"processed_text\")"
   ]
  },
  {
   "cell_type": "markdown",
   "id": "0b7f53bd",
   "metadata": {
    "height": 30
   },
   "source": [
    "### SequentialChain:"
   ]
  },
  {
   "cell_type": "code",
   "execution_count": 6,
   "id": "0abd041e",
   "metadata": {
    "height": 166
   },
   "outputs": [],
   "source": [
    "from langchain.chains import SequentialChain\n",
    "\n",
    "overall_chain = SequentialChain(\n",
    "    memory=memory,\n",
    "    chains=[detect_chain, translate_chain, process_chain],\n",
    "    input_variables=[\"input_text\", \"mode\"],\n",
    "    output_variables=[\"language\", \"english_text\", \"processed_text\"],\n",
    "    verbose=True\n",
    ")"
   ]
  },
  {
   "cell_type": "markdown",
   "id": "c61d447f",
   "metadata": {
    "height": 30
   },
   "source": [
    "### Simple Use (summerize):"
   ]
  },
  {
   "cell_type": "code",
   "execution_count": 7,
   "id": "1713c21f",
   "metadata": {
    "height": 81
   },
   "outputs": [],
   "source": [
    "text1 = \"\"\"Le produit est arrivé très rapidement, ce qui était une bonne surprise. \n",
    "Cependant, l’emballage était endommagé et cela a légèrement abîmé l’article. \n",
    "Dans l’ensemble, je suis satisfait de la qualité du produit, mais je pense que \n",
    "l’entreprise devrait faire plus attention à la protection des colis.\"\"\""
   ]
  },
  {
   "cell_type": "code",
   "execution_count": 8,
   "id": "e187d84b",
   "metadata": {
    "height": 81
   },
   "outputs": [
    {
     "name": "stdout",
     "output_type": "stream",
     "text": [
      "\n",
      "\n",
      "\u001b[1m> Entering new SequentialChain chain...\u001b[0m\n",
      "\n",
      "\u001b[1m> Finished chain.\u001b[0m\n"
     ]
    }
   ],
   "source": [
    "result1 = overall_chain({\n",
    "    \"input_text\": text1,\n",
    "    \"mode\": \"summarize\"\n",
    "})"
   ]
  },
  {
   "cell_type": "code",
   "execution_count": 9,
   "id": "f7ab4fde",
   "metadata": {
    "height": 30
   },
   "outputs": [
    {
     "name": "stdout",
     "output_type": "stream",
     "text": [
      "{'input_text': 'Le produit est arrivé très rapidement, ce qui était une bonne surprise. \\nCependant, l’emballage était endommagé et cela a légèrement abîmé l’article. \\nDans l’ensemble, je suis satisfait de la qualité du produit, mais je pense que \\nl’entreprise devrait faire plus attention à la protection des colis.', 'mode': 'summarize', 'chat_history': '', 'language': 'French', 'english_text': 'The product arrived very quickly, which was a pleasant surprise. However, the packaging was damaged and this slightly damaged the item. Overall, I am satisfied with the quality of the product, but I think the company should pay more attention to protecting packages.', 'processed_text': 'The product arrived quickly but the packaging was damaged, causing slight damage to the item. Overall, the quality of the product was satisfactory, but the company should improve its packaging to prevent damage in transit.'}\n"
     ]
    }
   ],
   "source": [
    "print(result1)"
   ]
  },
  {
   "cell_type": "code",
   "execution_count": 10,
   "id": "68aa9c69",
   "metadata": {
    "height": 30
   },
   "outputs": [
    {
     "name": "stdout",
     "output_type": "stream",
     "text": [
      "input_text: Le produit est arrivé très rapidement, ce qui était une bonne surprise. \n",
      "Cependant, l’emballage était endommagé et cela a légèrement abîmé l’article. \n",
      "Dans l’ensemble, je suis satisfait de la qualité du produit, mais je pense que \n",
      "l’entreprise devrait faire plus attention à la protection des colis.\n",
      "**************\n",
      "mode: summarize\n",
      "**************\n",
      "chat_history: \n",
      "**************\n",
      "language: French\n",
      "**************\n",
      "english_text: The product arrived very quickly, which was a pleasant surprise. However, the packaging was damaged and this slightly damaged the item. Overall, I am satisfied with the quality of the product, but I think the company should pay more attention to protecting packages.\n",
      "**************\n",
      "processed_text: The product arrived quickly but the packaging was damaged, causing slight damage to the item. Overall, the quality of the product was satisfactory, but the company should improve its packaging to prevent damage in transit.\n"
     ]
    }
   ],
   "source": [
    "print(\"\\n**************\\n\".join(f\"{key}: {value}\" for key, value in result1.items()))"
   ]
  },
  {
   "cell_type": "code",
   "execution_count": 11,
   "id": "a89d7c19",
   "metadata": {
    "height": 47
   },
   "outputs": [],
   "source": [
    "text2 = \"\"\"Heureusement, le service client a été très réactif et m’a proposé un remboursement \n",
    "partiel rapidement. Leur professionnalisme m’a convaincu de continuer à acheter chez eux.\"\"\""
   ]
  },
  {
   "cell_type": "code",
   "execution_count": 12,
   "id": "d88af387",
   "metadata": {
    "height": 81
   },
   "outputs": [
    {
     "name": "stdout",
     "output_type": "stream",
     "text": [
      "\n",
      "\n",
      "\u001b[1m> Entering new SequentialChain chain...\u001b[0m\n",
      "\n",
      "\u001b[1m> Finished chain.\u001b[0m\n"
     ]
    }
   ],
   "source": [
    "result2 = overall_chain({\n",
    "    \"input_text\": text2,\n",
    "    \"mode\": \"summarize\"\n",
    "})"
   ]
  },
  {
   "cell_type": "code",
   "execution_count": 13,
   "id": "f7c5b767",
   "metadata": {
    "height": 30
   },
   "outputs": [
    {
     "name": "stdout",
     "output_type": "stream",
     "text": [
      "input_text: Heureusement, le service client a été très réactif et m’a proposé un remboursement \n",
      "partiel rapidement. Leur professionnalisme m’a convaincu de continuer à acheter chez eux.\n",
      "**************\n",
      "mode: summarize\n",
      "**************\n",
      "chat_history: Human: Le produit est arrivé très rapidement, ce qui était une bonne surprise. \n",
      "Cependant, l’emballage était endommagé et cela a légèrement abîmé l’article. \n",
      "Dans l’ensemble, je suis satisfait de la qualité du produit, mais je pense que \n",
      "l’entreprise devrait faire plus attention à la protection des colis.\n",
      "AI: The product arrived quickly but the packaging was damaged, causing slight damage to the item. Overall, the quality of the product was satisfactory, but the company should improve its packaging to prevent damage in transit.\n",
      "**************\n",
      "language: French\n",
      "**************\n",
      "english_text: Fortunately, the customer service was very responsive and offered me a partial refund quickly. Their professionalism convinced me to continue buying from them.\n",
      "**************\n",
      "processed_text: The customer service was responsive and quickly offered a partial refund, demonstrating professionalism that convinced the individual to continue buying from them.\n"
     ]
    }
   ],
   "source": [
    "print(\"\\n**************\\n\".join(f\"{key}: {value}\" for key, value in result2.items()))"
   ]
  },
  {
   "cell_type": "code",
   "execution_count": 14,
   "id": "d8676e4b",
   "metadata": {
    "height": 64
   },
   "outputs": [
    {
     "name": "stdout",
     "output_type": "stream",
     "text": [
      "\n",
      "=== Dialogue History ===\n",
      "Le produit est arrivé très rapidement, ce qui était une bonne surprise. \n",
      "Cependant, l’emballage était endommagé et cela a légèrement abîmé l’article. \n",
      "Dans l’ensemble, je suis satisfait de la qualité du produit, mais je pense que \n",
      "l’entreprise devrait faire plus attention à la protection des colis.\n",
      "The product arrived quickly but the packaging was damaged, causing slight damage to the item. Overall, the quality of the product was satisfactory, but the company should improve its packaging to prevent damage in transit.\n",
      "Heureusement, le service client a été très réactif et m’a proposé un remboursement \n",
      "partiel rapidement. Leur professionnalisme m’a convaincu de continuer à acheter chez eux.\n",
      "The customer service was responsive and quickly offered a partial refund, demonstrating professionalism that convinced the individual to continue buying from them.\n"
     ]
    }
   ],
   "source": [
    "print(\"\\n=== Dialogue History ===\")\n",
    "for msg in memory.chat_memory.messages:\n",
    "    print(msg.content)"
   ]
  },
  {
   "cell_type": "code",
   "execution_count": 15,
   "id": "7f323ec8",
   "metadata": {
    "height": 115
   },
   "outputs": [
    {
     "name": "stdout",
     "output_type": "stream",
     "text": [
      "The product arrived quickly but the packaging was damaged, causing slight damage to the item. Overall, the quality of the product was satisfactory, but the company should improve its packaging to prevent damage in transit. The customer service was responsive and quickly offered a partial refund, demonstrating professionalism that convinced the individual to continue buying from them.\n"
     ]
    }
   ],
   "source": [
    "final_text1 = result1[\"processed_text\"]\n",
    "final_text2 = result2[\"processed_text\"]\n",
    "\n",
    "concatenated_text = final_text1 + \" \" + final_text2\n",
    "\n",
    "print(concatenated_text)"
   ]
  },
  {
   "cell_type": "markdown",
   "id": "eb32f40f",
   "metadata": {
    "height": 30
   },
   "source": [
    "## Final use: (summarize)"
   ]
  },
  {
   "cell_type": "code",
   "execution_count": 29,
   "id": "d42135e5",
   "metadata": {
    "height": 370
   },
   "outputs": [],
   "source": [
    "def process_two_texts():\n",
    "    mode = input(\"Choose mode (summarize/paraphrase): \").strip().lower()\n",
    "    \n",
    "    text1 = input(\"Enter the first text:\\n\").strip()\n",
    "    text2 = input(\"Enter the second text:\\n\").strip()\n",
    "    \n",
    "    result1 = overall_chain({\"input_text\": text1, \"mode\": mode})\n",
    "    print(\"\\n=== Text 1 translated into English ===\")\n",
    "    print(result1[\"english_text\"])\n",
    "    \n",
    "    result2 = overall_chain({\"input_text\": text2, \"mode\": mode})\n",
    "    print(\"\\n=== Text 2 translated into English ===\")\n",
    "    print(result2[\"english_text\"])\n",
    "    \n",
    "    # Final result\n",
    "    final_result = result1[\"processed_text\"] + \" \" + result2[\"processed_text\"]\n",
    "    \n",
    "    # Automate final title based on chosen mode\n",
    "    mode_title = \"summarized\" if mode == \"summarize\" else \"paraphrased\"\n",
    "    print(f\"\\n=== Concatenated final text ({mode_title}) ===\")\n",
    "    print(final_result)"
   ]
  },
  {
   "cell_type": "code",
   "execution_count": 30,
   "id": "f8957ae8",
   "metadata": {
    "height": 30
   },
   "outputs": [
    {
     "name": "stdout",
     "output_type": "stream",
     "text": [
      "Choose mode (summarize/paraphrase): summarize\n",
      "Enter the first text:\n",
      "Le produit que j'ai commandé est arrivé rapidement et en bon état général.  Cependant, l'emballage extérieur présentait quelques déchirures qui ont légèrement abîmé le contenu.  Malgré cela, la qualité du produit reste satisfaisante et conforme à la description.  Je recommande néanmoins de renforcer l'emballage pour éviter ce genre de désagrément.\n",
      "Enter the second text:\n",
      "Le service client a été très réactif et m'a aidé à résoudre un problème lié à ma commande.  Ils ont répondu à toutes mes questions avec patience et professionnalisme.  Grâce à leur efficacité, j'ai pu obtenir un remboursement partiel rapidement.  Cette expérience positive me donne confiance pour continuer à acheter sur ce site.\n",
      "\n",
      "\n",
      "\u001b[1m> Entering new SequentialChain chain...\u001b[0m\n",
      "\n",
      "\u001b[1m> Finished chain.\u001b[0m\n",
      "\n",
      "=== Text 1 translated into English ===\n",
      "The product I ordered arrived quickly and in good overall condition. However, the outer packaging had some tears that slightly damaged the contents. Despite this, the quality of the product is still satisfactory and in line with the description. I recommend, however, reinforcing the packaging to avoid this kind of inconvenience.\n",
      "\n",
      "\n",
      "\u001b[1m> Entering new SequentialChain chain...\u001b[0m\n",
      "\n",
      "\u001b[1m> Finished chain.\u001b[0m\n",
      "\n",
      "=== Text 2 translated into English ===\n",
      "The customer service was very responsive and helped me resolve an issue related to my order. They answered all my questions with patience and professionalism. Thanks to their efficiency, I was able to quickly receive a partial refund. This positive experience gives me confidence to continue buying from this site.\n",
      "\n",
      "=== Concatenated final text (summarized) ===\n",
      "The product arrived quickly and in good condition, but the outer packaging had tears that slightly damaged the contents. Despite this, the product quality is still satisfactory and matches the description. It is recommended to reinforce the packaging to prevent future damage. The customer service was attentive and quickly resolved an issue with my order, providing answers with professionalism and patience. I received a partial refund promptly, leading to a positive experience that encourages future purchases from the site.\n"
     ]
    }
   ],
   "source": [
    "process_two_texts()"
   ]
  },
  {
   "cell_type": "markdown",
   "id": "f061cf15",
   "metadata": {
    "height": 30
   },
   "source": [
    "## Final use: (paraphrase)"
   ]
  },
  {
   "cell_type": "code",
   "execution_count": 31,
   "id": "f150404d",
   "metadata": {
    "height": 30
   },
   "outputs": [
    {
     "name": "stdout",
     "output_type": "stream",
     "text": [
      "Choose mode (summarize/paraphrase): paraphrase\n",
      "Enter the first text:\n",
      "Le produit que j'ai commandé est arrivé rapidement et en bon état général.  Cependant, l'emballage extérieur présentait quelques déchirures qui ont légèrement abîmé le contenu.  Malgré cela, la qualité du produit reste satisfaisante et conforme à la description.  Je recommande néanmoins de renforcer l'emballage pour éviter ce genre de désagrément.\n",
      "Enter the second text:\n",
      "Le service client a été très réactif et m'a aidé à résoudre un problème lié à ma commande.  Ils ont répondu à toutes mes questions avec patience et professionnalisme.  Grâce à leur efficacité, j'ai pu obtenir un remboursement partiel rapidement.  Cette expérience positive me donne confiance pour continuer à acheter sur ce site.\n",
      "\n",
      "\n",
      "\u001b[1m> Entering new SequentialChain chain...\u001b[0m\n",
      "\n",
      "\u001b[1m> Finished chain.\u001b[0m\n",
      "\n",
      "=== Text 1 translated into English ===\n",
      "The product I ordered arrived quickly and in good overall condition. However, the outer packaging had some tears that slightly damaged the contents. Despite this, the quality of the product is still satisfactory and in line with the description. I recommend, however, reinforcing the packaging to avoid this kind of inconvenience.\n",
      "\n",
      "\n",
      "\u001b[1m> Entering new SequentialChain chain...\u001b[0m\n",
      "\n",
      "\u001b[1m> Finished chain.\u001b[0m\n",
      "\n",
      "=== Text 2 translated into English ===\n",
      "The customer service was very responsive and helped me resolve an issue related to my order. They answered all my questions with patience and professionalism. Thanks to their efficiency, I was able to quickly receive a partial refund. This positive experience gives me confidence to continue buying from this site.\n",
      "\n",
      "=== Concatenated final text (paraphrased) ===\n",
      "The item I purchased was delivered promptly and in decent condition. Although there were some tears in the outer packaging that caused minor damage to the contents, the overall quality of the product is still acceptable and matches the description. I suggest strengthening the packaging to prevent similar issues in the future. The customer service was highly attentive and assisted me in resolving a problem with my order. They patiently and professionally addressed all of my inquiries, allowing me to promptly receive a partial refund. This positive interaction has instilled in me the trust to continue making purchases from this website.\n"
     ]
    }
   ],
   "source": [
    "process_two_texts()"
   ]
  }
 ],
 "metadata": {
  "kernelspec": {
   "display_name": "Python 3 (ipykernel)",
   "language": "python",
   "name": "python3"
  },
  "language_info": {
   "codemirror_mode": {
    "name": "ipython",
    "version": 3
   },
   "file_extension": ".py",
   "mimetype": "text/x-python",
   "name": "python",
   "nbconvert_exporter": "python",
   "pygments_lexer": "ipython3",
   "version": "3.8.8"
  }
 },
 "nbformat": 4,
 "nbformat_minor": 5
}
