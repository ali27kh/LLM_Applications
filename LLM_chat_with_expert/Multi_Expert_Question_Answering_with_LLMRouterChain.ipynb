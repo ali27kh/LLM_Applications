{
 "cells": [
  {
   "cell_type": "code",
   "execution_count": 1,
   "id": "318fda6a",
   "metadata": {
    "height": 98
   },
   "outputs": [],
   "source": [
    "from langchain.chat_models import ChatOpenAI\n",
    "from langchain.prompts import ChatPromptTemplate, PromptTemplate\n",
    "from langchain.chains import LLMChain\n",
    "from langchain.chains.router.llm_router import LLMRouterChain, RouterOutputParser\n",
    "from langchain.chains.router.multi_prompt import MultiPromptChain"
   ]
  },
  {
   "cell_type": "code",
   "execution_count": 2,
   "id": "43c8e1d0",
   "metadata": {
    "height": 30
   },
   "outputs": [],
   "source": [
    "llm = ChatOpenAI(temperature=0, model=\"gpt-3.5-turbo\", max_tokens=500)"
   ]
  },
  {
   "cell_type": "code",
   "execution_count": 3,
   "id": "2ac3b4de",
   "metadata": {
    "height": 336
   },
   "outputs": [],
   "source": [
    "# 2- Templates for each expert\n",
    "medicine_template = \"\"\"You are a highly skilled doctor. \n",
    "You answer medical questions clearly and accurately. Here is the question: {input}\"\"\"\n",
    "\n",
    "psychology_template = \"\"\"You are an expert psychologist. \n",
    "You answer psychological questions with care and clarity. Here is the question: {input}\"\"\"\n",
    "\n",
    "math_template = \"\"\"You are an expert mathematician. \n",
    "You solve math problems step by step. Here is the question: {input}\"\"\"\n",
    "\n",
    "history_tunisia_template = \"\"\"You are an expert in the history of Tunisia. \n",
    "You answer questions about historical events in Tunisia precisely. Here is the question: {input}\"\"\"\n",
    "\n",
    "prompt_infos = [\n",
    "    {\"name\": \"medicine\", \"description\": \"Medical questions\", \"prompt_template\": medicine_template},\n",
    "    {\"name\": \"psychology\", \"description\": \"Psychological questions\", \"prompt_template\": psychology_template},\n",
    "    {\"name\": \"math\", \"description\": \"Math questions\", \"prompt_template\": math_template},\n",
    "    {\"name\": \"history_tunisia\", \"description\": \"History of Tunisia\", \"prompt_template\": history_tunisia_template}\n",
    "]"
   ]
  },
  {
   "cell_type": "code",
   "execution_count": 4,
   "id": "04edb3e0",
   "metadata": {
    "height": 132
   },
   "outputs": [],
   "source": [
    "# 3- Create an LLMChain for each expert\n",
    "destination_chains = {}\n",
    "for p_info in prompt_infos:\n",
    "    name = p_info[\"name\"]\n",
    "    prompt = ChatPromptTemplate.from_template(template=p_info[\"prompt_template\"])\n",
    "    chain = LLMChain(llm=llm, prompt=prompt)\n",
    "    destination_chains[name] = chain"
   ]
  },
  {
   "cell_type": "code",
   "execution_count": 12,
   "id": "ff4ada0c",
   "metadata": {
    "height": 404
   },
   "outputs": [],
   "source": [
    "# 4- Create the router\n",
    "destinations_str = \"\\n\".join([f\"{p['name']}: {p['description']}\" for p in prompt_infos])\n",
    "\n",
    "MULTI_PROMPT_ROUTER_TEMPLATE = f\"\"\"\n",
    "Given a question, select the most appropriate expert for answering.\n",
    "Available experts:\n",
    "{destinations_str}\n",
    "\n",
    "Input: {{input}}\n",
    "\n",
    "Output a JSON in a markdown code block like this:\n",
    "```json\n",
    "{{{{\"destination\": \"string\", \"next_inputs\": \"string\"}}}}\n",
    "\n",
    "\"\"\"\n",
    "\n",
    "router_prompt = PromptTemplate(\n",
    "    template=MULTI_PROMPT_ROUTER_TEMPLATE,\n",
    "    input_variables=[\"input\"],\n",
    "    output_parser=RouterOutputParser()\n",
    ")\n",
    "\n",
    "router_chain = LLMRouterChain.from_llm(llm, router_prompt)"
   ]
  },
  {
   "cell_type": "code",
   "execution_count": 13,
   "id": "d9b7d57d",
   "metadata": {
    "height": 166
   },
   "outputs": [],
   "source": [
    "# 5- MultiPrompt chain\n",
    "default_chain = LLMChain(llm=llm, prompt=ChatPromptTemplate.from_template(\"{input}\"))\n",
    "\n",
    "multi_prompt_chain = MultiPromptChain(\n",
    "    router_chain=router_chain,\n",
    "    destination_chains=destination_chains,\n",
    "    default_chain=default_chain,\n",
    "    verbose=True\n",
    ")"
   ]
  },
  {
   "cell_type": "code",
   "execution_count": 15,
   "id": "8c1e9658",
   "metadata": {
    "height": 234
   },
   "outputs": [
    {
     "name": "stdout",
     "output_type": "stream",
     "text": [
      "\n",
      "Question: Quels sont les symptômes courants de la grippe ?\n",
      "\n",
      "\n",
      "\u001b[1m> Entering new MultiPromptChain chain...\u001b[0m\n",
      "medicine: {'input': 'Quels sont les symptômes courants de la grippe ?'}\n",
      "\u001b[1m> Finished chain.\u001b[0m\n",
      "Answer: Les symptômes courants de la grippe comprennent la fièvre, les frissons, les maux de tête, les courbatures, la fatigue, la toux, les maux de gorge et parfois des nausées et des vomissements. Il est important de consulter un médecin si vous présentez ces symptômes pour obtenir un diagnostic précis et un traitement approprié.\n",
      "\n",
      "Question: Résoudre l'équation x^2 - 5x + 6 = 0\n",
      "\n",
      "\n",
      "\u001b[1m> Entering new MultiPromptChain chain...\u001b[0m\n",
      "math: {'input': 'x^2 - 5x + 6 = 0'}\n",
      "\u001b[1m> Finished chain.\u001b[0m\n",
      "Answer: To solve the quadratic equation x^2 - 5x + 6 = 0, we can use the quadratic formula:\n",
      "\n",
      "x = (-b ± √(b^2 - 4ac)) / 2a\n",
      "\n",
      "In this case, a = 1, b = -5, and c = 6. Plugging these values into the formula, we get:\n",
      "\n",
      "x = (5 ± √((-5)^2 - 4*1*6)) / 2*1\n",
      "x = (5 ± √(25 - 24)) / 2\n",
      "x = (5 ± √1) / 2\n",
      "x = (5 ± 1) / 2\n",
      "\n",
      "So, the solutions to the equation x^2 - 5x + 6 = 0 are:\n",
      "\n",
      "x = (5 + 1) / 2 = 6 / 2 = 3\n",
      "x = (5 - 1) / 2 = 4 / 2 = 2\n",
      "\n",
      "Therefore, the solutions to the equation are x = 3 and x = 2.\n",
      "\n",
      "Question: Quelles sont les causes de stress les plus fréquentes selon la psychologie moderne ?\n",
      "\n",
      "\n",
      "\u001b[1m> Entering new MultiPromptChain chain...\u001b[0m\n",
      "psychology: {'input': 'Quelles sont les causes de stress les plus fréquentes selon la psychologie moderne ?'}\n",
      "\u001b[1m> Finished chain.\u001b[0m\n",
      "Answer: Les causes de stress les plus fréquentes selon la psychologie moderne peuvent varier d'une personne à l'autre, mais certaines causes courantes incluent :\n",
      "\n",
      "1. Les pressions au travail : des exigences élevées, des délais serrés et un environnement de travail stressant peuvent entraîner du stress chez de nombreuses personnes.\n",
      "\n",
      "2. Les problèmes relationnels : les conflits familiaux, les difficultés de communication et les tensions dans les relations interpersonnelles peuvent également être des sources de stress importantes.\n",
      "\n",
      "3. Les événements de vie stressants : des événements tels que la perte d'un être cher, un déménagement, un divorce ou des problèmes financiers peuvent provoquer du stress.\n",
      "\n",
      "4. Les préoccupations liées à la santé : les inquiétudes concernant la santé physique ou mentale, les maladies chroniques ou les problèmes de santé non résolus peuvent également être des facteurs de stress importants.\n",
      "\n",
      "5. Les pressions sociales : la pression pour réussir, être accepté par les autres, ou répondre aux attentes de la société peuvent également contribuer au stress.\n",
      "\n",
      "Il est important de noter que le stress est une réaction individuelle et que ce qui peut être stressant pour une personne peut ne pas l'être pour une autre. Il est donc essentiel de trouver des stratégies de gestion du stress qui fonctionnent pour chaque individu.\n",
      "\n",
      "Question: Quand a eu lieu l'indépendance de la Tunisie ?\n",
      "\n",
      "\n",
      "\u001b[1m> Entering new MultiPromptChain chain...\u001b[0m\n",
      "history_tunisia: {'input': \"Quand a eu lieu l'indépendance de la Tunisie ?\"}\n",
      "\u001b[1m> Finished chain.\u001b[0m\n",
      "Answer: L'indépendance de la Tunisie a eu lieu le 20 mars 1956.\n",
      "\n",
      "Question: Calculate 7*8+65\n",
      "\n",
      "\n",
      "\u001b[1m> Entering new MultiPromptChain chain...\u001b[0m\n",
      "math: {'input': '7*8+65'}\n",
      "\u001b[1m> Finished chain.\u001b[0m\n",
      "Answer: To solve the expression 7*8+65, we first need to perform the multiplication operation, then the addition operation.\n",
      "\n",
      "Step 1: 7*8 = 56\n",
      "Step 2: 56 + 65 = 121\n",
      "\n",
      "Therefore, the answer to the expression 7*8+65 is 121.\n"
     ]
    }
   ],
   "source": [
    "# 6- Test with some questions\n",
    "questions = [\n",
    "    \"Quels sont les symptômes courants de la grippe ?\",\n",
    "    \"Résoudre l'équation x^2 - 5x + 6 = 0\",\n",
    "    \"Quelles sont les causes de stress les plus fréquentes selon la psychologie moderne ?\",\n",
    "    \"Quand a eu lieu l'indépendance de la Tunisie ?\",\n",
    "    \"Calculate 7*8+65\"\n",
    "]\n",
    "\n",
    "for q in questions:\n",
    "    print(f\"\\nQuestion: {q}\")\n",
    "    response = multi_prompt_chain.run(q)\n",
    "    print(f\"Answer: {response}\")"
   ]
  }
 ],
 "metadata": {
  "kernelspec": {
   "display_name": "Python 3 (ipykernel)",
   "language": "python",
   "name": "python3"
  },
  "language_info": {
   "codemirror_mode": {
    "name": "ipython",
    "version": 3
   },
   "file_extension": ".py",
   "mimetype": "text/x-python",
   "name": "python",
   "nbconvert_exporter": "python",
   "pygments_lexer": "ipython3",
   "version": "3.9.19"
  }
 },
 "nbformat": 4,
 "nbformat_minor": 5
}
